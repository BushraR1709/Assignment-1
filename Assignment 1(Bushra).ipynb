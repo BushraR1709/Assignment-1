{
 "cells": [
  {
   "cell_type": "code",
   "execution_count": 11,
   "id": "5afe93bd-ba24-40bb-81aa-747a8a51f4bf",
   "metadata": {},
   "outputs": [
    {
     "name": "stdout",
     "output_type": "stream",
     "text": [
      "<class 'str'>\n",
      "<class 'list'>\n",
      "<class 'float'>\n",
      "<class 'tuple'>\n"
     ]
    }
   ],
   "source": [
    "#Q1. Create one variable containing following type of data:\n",
    "#(i)\tstring\n",
    "a = \"bushra\"\n",
    "print(type(a))\n",
    "\n",
    "#(ii)\tlist\n",
    "b =[1,17.07,True,\"bushra\"]\n",
    "print(type(b))\n",
    "\n",
    "#(iii)\tfloat\n",
    "c = 17.09\n",
    "print(type(c))\n",
    "\n",
    "#(iv)\ttuple\n",
    "d = (\"Cherry\",\"Pineapple\",\"kiwi\")\n",
    "print(type(d))"
   ]
  },
  {
   "cell_type": "code",
   "execution_count": null,
   "id": "7fd9f332-930d-4b55-ac2d-79f90dde09a1",
   "metadata": {},
   "outputs": [],
   "source": [
    "Q2. Given are some following variables containing data:\n",
    "What will be the data type of the above given variable.\n",
    "\n",
    "(i)\tvar1 = ‘ ‘\n",
    "str\n",
    "\n",
    "(ii)\tvar2 = ‘[ DS , ML , Python]’\n",
    "str\n",
    "\n",
    "(iii)\tvar3 = [ ‘DS’ , ’ML’ , ‘Python’ ]\n",
    "list\n",
    "\n",
    "(iv)\tvar4 = 1.\n",
    "float"
   ]
  },
  {
   "cell_type": "code",
   "execution_count": 13,
   "id": "64299eae-7e30-4a93-8331-b7921d9ef8a5",
   "metadata": {},
   "outputs": [
    {
     "name": "stdout",
     "output_type": "stream",
     "text": [
      "2.0\n",
      "2\n",
      "1\n",
      "1296\n"
     ]
    }
   ],
   "source": [
    "#Q3. Explain the use of the following operators using an example:\n",
    "\n",
    "#(i)\t/\n",
    "#It is a division operator that is used to divide the numerical value and gives quotient as output.\n",
    "a = 6\n",
    "b = 3\n",
    "print(a/b) \n",
    "\n",
    "\n",
    "\n",
    "#(ii)\t% \n",
    "#It is a modulous division that gives remainder as output.\n",
    "x = 6\n",
    "y = 4\n",
    "\n",
    "print(x % y)\n",
    "\n",
    "#(iii)\t//\n",
    "#It is a floor division that gives quotient as output in integeric value.\n",
    "x = 6\n",
    "y = 4\n",
    "\n",
    "print(x // y)\n",
    "\n",
    "#(iv)**\n",
    "#It is exponential operator.\n",
    "x = 6\n",
    "y = 4\n",
    "\n",
    "print(x ** y)"
   ]
  },
  {
   "cell_type": "code",
   "execution_count": 10,
   "id": "5081642a-5363-46af-a476-593c7c8c6809",
   "metadata": {},
   "outputs": [
    {
     "name": "stdout",
     "output_type": "stream",
     "text": [
      "1\n",
      "<class 'int'>\n",
      "PWSkills\n",
      "<class 'str'>\n",
      "Data Science Masters\n",
      "<class 'str'>\n",
      "2.0\n",
      "<class 'float'>\n",
      "True\n",
      "<class 'bool'>\n",
      "1.5j\n",
      "<class 'complex'>\n",
      "False\n",
      "<class 'bool'>\n",
      "Bushra\n",
      "<class 'str'>\n",
      "2\n",
      "<class 'int'>\n",
      "[1, 2, 'list_under_list']\n",
      "<class 'list'>\n"
     ]
    }
   ],
   "source": [
    "#Q4. Create a list of length 10 of your choice containing multiple types of data. Using for loop print the \n",
    "#element and its data type\n",
    "\n",
    "my_list = [1,\"PWSkills\",\"Data Science Masters\",2.0,True,1.5j,False,\"Bushra\",2,[1,2,\"list_under_list\"]]\n",
    "my_list = [1,\"PWSkills\",\"Data Science Masters\",2.0,True,1.5j,False,\"Bushra\",2,[1,2,\"list_under_list\"]]\n",
    "for i in my_list:\n",
    "    print(i)\n",
    "    print(type(i))"
   ]
  },
  {
   "cell_type": "code",
   "execution_count": 16,
   "id": "af6d6754-b9b2-4671-8f64-081fb1c4edd0",
   "metadata": {},
   "outputs": [
    {
     "name": "stdin",
     "output_type": "stream",
     "text": [
      " 50\n",
      " 5\n"
     ]
    },
    {
     "name": "stdout",
     "output_type": "stream",
     "text": [
      "a is divisible by b and a is divisible by b for 10.0 times\n"
     ]
    }
   ],
   "source": [
    "#Q5. Using a while loop, verify if the number A is purely divisible by number B and if so then how many \n",
    "#times it can be divisible.\n",
    "a=int(input())\n",
    "b=int(input())\n",
    "\n",
    "while a % b == 0:\n",
    "    print('a is divisible by b', 'and a is divisible by b for',a/b, 'times')\n",
    "    break\n",
    "else:\n",
    "    print('a is not divisible by b')"
   ]
  },
  {
   "cell_type": "code",
   "execution_count": 14,
   "id": "36615ff3-79fb-45ec-aeb5-5d3cfb0f5a04",
   "metadata": {},
   "outputs": [
    {
     "name": "stdout",
     "output_type": "stream",
     "text": [
      "1 is not divisible by 3\n",
      "2 is not divisible by 3\n",
      "3 is divisible by 3\n",
      "4 is not divisible by 3\n",
      "5 is not divisible by 3\n",
      "6 is divisible by 3\n",
      "7 is not divisible by 3\n",
      "8 is not divisible by 3\n",
      "9 is divisible by 3\n",
      "10 is not divisible by 3\n",
      "11 is not divisible by 3\n",
      "12 is divisible by 3\n",
      "13 is not divisible by 3\n",
      "14 is not divisible by 3\n",
      "15 is divisible by 3\n",
      "16 is not divisible by 3\n",
      "17 is not divisible by 3\n",
      "18 is divisible by 3\n",
      "19 is not divisible by 3\n",
      "20 is not divisible by 3\n",
      "21 is divisible by 3\n",
      "22 is not divisible by 3\n",
      "23 is not divisible by 3\n",
      "24 is divisible by 3\n",
      "25 is not divisible by 3\n"
     ]
    }
   ],
   "source": [
    "#Q6. Create a list containing 25 int type data. Using for loop and if-else condition print if the element is \n",
    "#divisible by 3 or not.\n",
    "\n",
    "num_list = [1,2,3,4,5,6,7,8,9,10,11,12,13,14,15,16,17,18,19,20,21,22,23,24,25]\n",
    "for i in num_list:\n",
    "    if i % 3 ==0:\n",
    "        print(i,\"is divisible by 3\" )\n",
    "    else:\n",
    "        print(i, \"is not divisible by 3\")"
   ]
  },
  {
   "cell_type": "code",
   "execution_count": 28,
   "id": "b3f49916-22ad-4e6e-844c-a7a539100154",
   "metadata": {},
   "outputs": [
    {
     "name": "stdout",
     "output_type": "stream",
     "text": [
      "['Bushra', 1, 2.0]\n",
      "<class 'list'>\n",
      "['PWskills', 1, 2.0]\n",
      "Data Science Masters 2.0\n",
      "<class 'str'>\n"
     ]
    },
    {
     "ename": "TypeError",
     "evalue": "'str' object does not support item assignment",
     "output_type": "error",
     "traceback": [
      "\u001b[0;31m---------------------------------------------------------------------------\u001b[0m",
      "\u001b[0;31mTypeError\u001b[0m                                 Traceback (most recent call last)",
      "Cell \u001b[0;32mIn[28], line 19\u001b[0m\n\u001b[1;32m     15\u001b[0m \u001b[38;5;28mprint\u001b[39m(example1)\n\u001b[1;32m     16\u001b[0m \u001b[38;5;28mprint\u001b[39m(\u001b[38;5;28mtype\u001b[39m(example1))\n\u001b[0;32m---> 19\u001b[0m \u001b[43mexample1\u001b[49m\u001b[43m[\u001b[49m\u001b[38;5;241;43m0\u001b[39;49m\u001b[43m]\u001b[49m\u001b[38;5;241m=\u001b[39m\u001b[38;5;124m\"\u001b[39m\u001b[38;5;124mB\u001b[39m\u001b[38;5;124m\"\u001b[39m\n\u001b[1;32m     20\u001b[0m \u001b[38;5;28mprint\u001b[39m(example1)\n",
      "\u001b[0;31mTypeError\u001b[0m: 'str' object does not support item assignment"
     ]
    }
   ],
   "source": [
    "#Q7. What do you understand about mutable and immutable data types? Give examples for both showing \n",
    "#this property.\n",
    "\n",
    "#Mutable-Mutable means data can be modified after the code is exectued with the help of indexing,List are mutable data type.\n",
    "example=[\"Bushra\",1,2.0]\n",
    "print(example)\n",
    "print(type(example))\n",
    "\n",
    "example[0]=\"PWskills\"\n",
    "print(example)\n",
    "\n",
    "\n",
    "#Immutable-Immutable means data cannot be modified after the code is exectued with the help of indexing,List are mutable data type.\n",
    "example1=\"Data Science Masters 2.0\"\n",
    "print(example1)\n",
    "print(type(example1))\n",
    "\n",
    "\n",
    "example1[0]=\"B\"\n",
    "print(example1)"
   ]
  },
  {
   "cell_type": "code",
   "execution_count": null,
   "id": "e0b09f3e-a55a-4fc2-9885-a38640de7d09",
   "metadata": {},
   "outputs": [],
   "source": []
  }
 ],
 "metadata": {
  "kernelspec": {
   "display_name": "Python 3 (ipykernel)",
   "language": "python",
   "name": "python3"
  },
  "language_info": {
   "codemirror_mode": {
    "name": "ipython",
    "version": 3
   },
   "file_extension": ".py",
   "mimetype": "text/x-python",
   "name": "python",
   "nbconvert_exporter": "python",
   "pygments_lexer": "ipython3",
   "version": "3.10.8"
  }
 },
 "nbformat": 4,
 "nbformat_minor": 5
}
